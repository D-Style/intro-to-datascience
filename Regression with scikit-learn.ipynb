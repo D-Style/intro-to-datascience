{
 "cells": [
  {
   "cell_type": "markdown",
   "metadata": {},
   "source": [
    "# データ分析入門編：scikit-learnで回帰！\n",
    "\n",
    "今回は、有名はBoston House-Pricesデータセットを使い、scikit-learnで回帰モデルの作成します。\n",
    "使うアルゴリズムはSVRとRandom Forestですが、他のアルゴリズムも同様に作成できます。\n",
    "Boston House-Pricesデータセットはscikit-learnに組み込まれていますので、まずはデータセットをロードします。"
   ]
  },
  {
   "cell_type": "code",
   "execution_count": 1,
   "metadata": {},
   "outputs": [],
   "source": [
    "import sklearn\n",
    "from sklearn import datasets\n",
    "\n",
    "boston = datasets.load_boston()"
   ]
  },
  {
   "cell_type": "markdown",
   "metadata": {},
   "source": [
    "## bostonの型について\n",
    "この\"boston\"は、Bunchというscikit-learn独自の辞書のような型です。"
   ]
  },
  {
   "cell_type": "code",
   "execution_count": 2,
   "metadata": {},
   "outputs": [
    {
     "data": {
      "text/plain": [
       "sklearn.utils.Bunch"
      ]
     },
     "execution_count": 2,
     "metadata": {},
     "output_type": "execute_result"
    }
   ],
   "source": [
    "type(boston)"
   ]
  },
  {
   "cell_type": "markdown",
   "metadata": {},
   "source": [
    "## bostonの中身\n",
    "まず、bostonのキーを見てみましょう。御覧の通り、次の５つが入っています。\n",
    "1. DESCR: データの説明文\n",
    "1. data：データ本体\n",
    "1. target：予測したい変数のデータ\n",
    "1. feature_names：dataの各列の名前"
   ]
  },
  {
   "cell_type": "code",
   "execution_count": 3,
   "metadata": {},
   "outputs": [
    {
     "data": {
      "text/plain": [
       "dict_keys(['data', 'target', 'feature_names', 'DESCR'])"
      ]
     },
     "execution_count": 3,
     "metadata": {},
     "output_type": "execute_result"
    }
   ],
   "source": [
    "boston.keys()"
   ]
  },
  {
   "cell_type": "markdown",
   "metadata": {},
   "source": [
    "## Bostonの説明"
   ]
  },
  {
   "cell_type": "markdown",
   "metadata": {},
   "source": [
    "それでは、まずは説明から見てみましょう。基本的な情報（何のデータなのか、データの数など）が記載されています。より詳しくはwikipediaなどを参照ください。"
   ]
  },
  {
   "cell_type": "code",
   "execution_count": 4,
   "metadata": {},
   "outputs": [
    {
     "name": "stdout",
     "output_type": "stream",
     "text": [
      "Boston House Prices dataset\n",
      "===========================\n",
      "\n",
      "Notes\n",
      "------\n",
      "Data Set Characteristics:  \n",
      "\n",
      "    :Number of Instances: 506 \n",
      "\n",
      "    :Number of Attributes: 13 numeric/categorical predictive\n",
      "    \n",
      "    :Median Value (attribute 14) is usually the target\n",
      "\n",
      "    :Attribute Information (in order):\n",
      "        - CRIM     per capita crime rate by town\n",
      "        - ZN       proportion of residential land zoned for lots over 25,000 sq.ft.\n",
      "        - INDUS    proportion of non-retail business acres per town\n",
      "        - CHAS     Charles River dummy variable (= 1 if tract bounds river; 0 otherwise)\n",
      "        - NOX      nitric oxides concentration (parts per 10 million)\n",
      "        - RM       average number of rooms per dwelling\n",
      "        - AGE      proportion of owner-occupied units built prior to 1940\n",
      "        - DIS      weighted distances to five Boston employment centres\n",
      "        - RAD      index of accessibility to radial highways\n",
      "        - TAX      full-value property-tax rate per $10,000\n",
      "        - PTRATIO  pupil-teacher ratio by town\n",
      "        - B        1000(Bk - 0.63)^2 where Bk is the proportion of blacks by town\n",
      "        - LSTAT    % lower status of the population\n",
      "        - MEDV     Median value of owner-occupied homes in $1000's\n",
      "\n",
      "    :Missing Attribute Values: None\n",
      "\n",
      "    :Creator: Harrison, D. and Rubinfeld, D.L.\n",
      "\n",
      "This is a copy of UCI ML housing dataset.\n",
      "http://archive.ics.uci.edu/ml/datasets/Housing\n",
      "\n",
      "\n",
      "This dataset was taken from the StatLib library which is maintained at Carnegie Mellon University.\n",
      "\n",
      "The Boston house-price data of Harrison, D. and Rubinfeld, D.L. 'Hedonic\n",
      "prices and the demand for clean air', J. Environ. Economics & Management,\n",
      "vol.5, 81-102, 1978.   Used in Belsley, Kuh & Welsch, 'Regression diagnostics\n",
      "...', Wiley, 1980.   N.B. Various transformations are used in the table on\n",
      "pages 244-261 of the latter.\n",
      "\n",
      "The Boston house-price data has been used in many machine learning papers that address regression\n",
      "problems.   \n",
      "     \n",
      "**References**\n",
      "\n",
      "   - Belsley, Kuh & Welsch, 'Regression diagnostics: Identifying Influential Data and Sources of Collinearity', Wiley, 1980. 244-261.\n",
      "   - Quinlan,R. (1993). Combining Instance-Based and Model-Based Learning. In Proceedings on the Tenth International Conference of Machine Learning, 236-243, University of Massachusetts, Amherst. Morgan Kaufmann.\n",
      "   - many more! (see http://archive.ics.uci.edu/ml/datasets/Housing)\n",
      "\n"
     ]
    }
   ],
   "source": [
    "print(boston['DESCR'])"
   ]
  },
  {
   "cell_type": "code",
   "execution_count": 5,
   "metadata": {},
   "outputs": [
    {
     "data": {
      "text/plain": [
       "array(['CRIM', 'ZN', 'INDUS', 'CHAS', 'NOX', 'RM', 'AGE', 'DIS', 'RAD',\n",
       "       'TAX', 'PTRATIO', 'B', 'LSTAT'], dtype='<U7')"
      ]
     },
     "execution_count": 5,
     "metadata": {},
     "output_type": "execute_result"
    }
   ],
   "source": [
    "boston['feature_names']"
   ]
  },
  {
   "cell_type": "code",
   "execution_count": 6,
   "metadata": {},
   "outputs": [
    {
     "data": {
      "text/plain": [
       "array([[6.3200e-03, 1.8000e+01, 2.3100e+00, 0.0000e+00, 5.3800e-01,\n",
       "        6.5750e+00, 6.5200e+01, 4.0900e+00, 1.0000e+00, 2.9600e+02,\n",
       "        1.5300e+01, 3.9690e+02, 4.9800e+00],\n",
       "       [2.7310e-02, 0.0000e+00, 7.0700e+00, 0.0000e+00, 4.6900e-01,\n",
       "        6.4210e+00, 7.8900e+01, 4.9671e+00, 2.0000e+00, 2.4200e+02,\n",
       "        1.7800e+01, 3.9690e+02, 9.1400e+00],\n",
       "       [2.7290e-02, 0.0000e+00, 7.0700e+00, 0.0000e+00, 4.6900e-01,\n",
       "        7.1850e+00, 6.1100e+01, 4.9671e+00, 2.0000e+00, 2.4200e+02,\n",
       "        1.7800e+01, 3.9283e+02, 4.0300e+00],\n",
       "       [3.2370e-02, 0.0000e+00, 2.1800e+00, 0.0000e+00, 4.5800e-01,\n",
       "        6.9980e+00, 4.5800e+01, 6.0622e+00, 3.0000e+00, 2.2200e+02,\n",
       "        1.8700e+01, 3.9463e+02, 2.9400e+00],\n",
       "       [6.9050e-02, 0.0000e+00, 2.1800e+00, 0.0000e+00, 4.5800e-01,\n",
       "        7.1470e+00, 5.4200e+01, 6.0622e+00, 3.0000e+00, 2.2200e+02,\n",
       "        1.8700e+01, 3.9690e+02, 5.3300e+00],\n",
       "       [2.9850e-02, 0.0000e+00, 2.1800e+00, 0.0000e+00, 4.5800e-01,\n",
       "        6.4300e+00, 5.8700e+01, 6.0622e+00, 3.0000e+00, 2.2200e+02,\n",
       "        1.8700e+01, 3.9412e+02, 5.2100e+00],\n",
       "       [8.8290e-02, 1.2500e+01, 7.8700e+00, 0.0000e+00, 5.2400e-01,\n",
       "        6.0120e+00, 6.6600e+01, 5.5605e+00, 5.0000e+00, 3.1100e+02,\n",
       "        1.5200e+01, 3.9560e+02, 1.2430e+01],\n",
       "       [1.4455e-01, 1.2500e+01, 7.8700e+00, 0.0000e+00, 5.2400e-01,\n",
       "        6.1720e+00, 9.6100e+01, 5.9505e+00, 5.0000e+00, 3.1100e+02,\n",
       "        1.5200e+01, 3.9690e+02, 1.9150e+01],\n",
       "       [2.1124e-01, 1.2500e+01, 7.8700e+00, 0.0000e+00, 5.2400e-01,\n",
       "        5.6310e+00, 1.0000e+02, 6.0821e+00, 5.0000e+00, 3.1100e+02,\n",
       "        1.5200e+01, 3.8663e+02, 2.9930e+01],\n",
       "       [1.7004e-01, 1.2500e+01, 7.8700e+00, 0.0000e+00, 5.2400e-01,\n",
       "        6.0040e+00, 8.5900e+01, 6.5921e+00, 5.0000e+00, 3.1100e+02,\n",
       "        1.5200e+01, 3.8671e+02, 1.7100e+01]])"
      ]
     },
     "execution_count": 6,
     "metadata": {},
     "output_type": "execute_result"
    }
   ],
   "source": [
    "boston['data'][:10]"
   ]
  },
  {
   "cell_type": "code",
   "execution_count": 7,
   "metadata": {},
   "outputs": [
    {
     "data": {
      "text/plain": [
       "array([24. , 21.6, 34.7, 33.4, 36.2, 28.7, 22.9, 27.1, 16.5, 18.9])"
      ]
     },
     "execution_count": 7,
     "metadata": {},
     "output_type": "execute_result"
    }
   ],
   "source": [
    "boston['target'][:10]"
   ]
  },
  {
   "cell_type": "markdown",
   "metadata": {},
   "source": [
    "# SVRで回帰"
   ]
  },
  {
   "cell_type": "markdown",
   "metadata": {},
   "source": [
    "SVRの場合は事前にデータセットを正規化する必要があります。scikit-learnにはこのようなプリプロセシング用のツールが多数あります。その中で、今回は平均０、標準偏差１にデータを正規化するStandardScalerを使います。\n",
    "\n",
    "StandardScalerの詳細については[ここ](http://scikit-learn.org/stable/modules/generated/sklearn.preprocessing.StandardScaler.html)を参照ください。"
   ]
  },
  {
   "cell_type": "code",
   "execution_count": 8,
   "metadata": {},
   "outputs": [],
   "source": [
    "from sklearn.preprocessing import StandardScaler\n",
    "scaler = StandardScaler()\n",
    "scaler.fit(boston.data)\n",
    "data = scaler.transform(boston.data)"
   ]
  },
  {
   "cell_type": "markdown",
   "metadata": {},
   "source": [
    "次に、学習用データセットと評価用データセットに分ける必要がありますが、scikit-learnにはそれを簡単にできるツールがあります。名前もtrain_test_splitです。再現性のためのrandom_stateを指定するのがおすすめです。\n",
    "\n",
    "train_test_splitの詳細については[ここ](http://scikit-learn.org/stable/modules/generated/sklearn.model_selection.train_test_split.html)を参照ください。"
   ]
  },
  {
   "cell_type": "code",
   "execution_count": 9,
   "metadata": {},
   "outputs": [],
   "source": [
    "from sklearn.model_selection import train_test_split\n",
    "X_train, X_test, y_train, y_test = train_test_split(data, boston.target, test_size=0.4, random_state=0)"
   ]
  },
  {
   "cell_type": "markdown",
   "metadata": {},
   "source": [
    "scikit-learnの素晴らしいところはアルゴリズムが何であれ、その使い方が（基本的に）一緒だということ点です。\n",
    "次の３行でモデルを作成できます。\n",
    "\n",
    "```python\n",
    "from sklearn.hoge import fuga\n",
    "clf = fuga()\n",
    "clf.fit(X_train, y_train)\n",
    "```\n",
    "尚、各アルゴリズムにはそれぞれ特有のパラメーターがありますが、それらは`clf=fuga()`の引数にパラメーターを指定します。\n",
    "例えば、SVRの場合は次の通りです。"
   ]
  },
  {
   "cell_type": "code",
   "execution_count": 10,
   "metadata": {},
   "outputs": [
    {
     "data": {
      "text/plain": [
       "SVR(C=1.0, cache_size=200, coef0=0.0, degree=3, epsilon=0.1, gamma='auto',\n",
       "  kernel='rbf', max_iter=-1, shrinking=True, tol=0.001, verbose=False)"
      ]
     },
     "execution_count": 10,
     "metadata": {},
     "output_type": "execute_result"
    }
   ],
   "source": [
    "from sklearn.svm import SVR\n",
    "clf = SVR()\n",
    "clf.fit(X_train, y_train) "
   ]
  },
  {
   "cell_type": "markdown",
   "metadata": {},
   "source": [
    "未知のデータに対して予測を行い場合はpredictメソッドを使います。例えば、今回学習に使っていないX_testで予測する場合は次の通りです。"
   ]
  },
  {
   "cell_type": "code",
   "execution_count": 11,
   "metadata": {},
   "outputs": [
    {
     "data": {
      "text/plain": [
       "array([25.10579585, 19.01183768, 24.13978332, 13.93993634, 21.11022874,\n",
       "       19.57890541, 20.7352087 , 20.25228083, 18.79412721, 18.68393209,\n",
       "       20.90446191, 13.82165026, 14.69932714, 13.52103208, 26.33154875,\n",
       "       30.38977904, 21.42269762, 31.59203198, 28.6802751 , 21.56537335,\n",
       "       23.89571997, 21.59364973, 18.88558311, 28.21617568, 20.73675589,\n",
       "       17.8543488 , 17.2821231 , 18.64699716, 33.18711461, 18.64752067,\n",
       "       15.45819648, 17.28962857, 19.66241778, 21.81375679, 26.09024954,\n",
       "       20.94118972, 12.7473424 , 22.25021711, 13.96926454, 13.24082191,\n",
       "       23.82124823, 20.26656644, 23.01878395, 15.00546287, 25.05888937,\n",
       "       23.56872953, 19.27765999, 21.21153828, 17.03167203, 23.03546781,\n",
       "       20.78642411, 19.23793456, 21.5974788 , 28.62162607, 15.07353054,\n",
       "       21.32779198, 20.6030634 , 18.32444129, 20.19770992, 21.52678564,\n",
       "       21.10698864, 20.96138843, 31.55689366, 28.13075376, 18.53976672,\n",
       "       30.26342019, 16.08656085, 20.24117289, 14.16229313, 21.98658724,\n",
       "       21.11997865, 23.07365344, 27.31657903, 29.75679567, 23.00073118,\n",
       "       12.96146971, 34.14405336, 22.82617833, 25.60766521, 18.33123165,\n",
       "       27.74604421, 18.61363065, 16.35058133, 33.90946031, 33.07779926,\n",
       "       23.61652934, 22.81744545, 15.19035037, 23.5494452 , 15.44419791,\n",
       "       19.80705502, 12.38350833, 23.96670391, 29.48759344, 20.50443977,\n",
       "       20.92737103, 15.58003261, 25.06933285, 13.76700565, 17.49183515,\n",
       "       24.43516339, 20.33983915, 25.98664862, 21.58168721, 27.8342459 ,\n",
       "       22.10447117, 13.29939785, 16.37856898, 20.68683241, 27.64832118,\n",
       "       28.09761965, 12.24712638, 19.83293706, 18.72803485, 16.85346532,\n",
       "       22.84942685, 13.27937413, 19.52373181, 12.56480579, 26.30200542,\n",
       "       30.09139064, 12.60414951, 17.41912833, 20.1616146 , 21.14256863,\n",
       "       18.86724534, 32.2645979 , 16.04792624, 20.0718413 , 28.0714464 ,\n",
       "       15.99620243, 13.50431241, 17.29194048, 20.46895169, 13.58027598,\n",
       "       28.77916924, 22.70266487, 19.8654881 , 25.14769445, 13.54624153,\n",
       "       13.70830755, 20.65275827, 30.42781879, 26.79573764, 24.27304649,\n",
       "       16.07037714, 29.38068052, 28.31718438, 12.58463344, 12.00604676,\n",
       "       26.28014286, 24.20150535, 14.63315083, 26.35154746, 17.40263608,\n",
       "       27.07898125, 18.95446943, 16.39244977, 18.51992023, 14.38512212,\n",
       "       13.14121585, 18.7642485 , 32.23655206, 31.7959775 , 24.9750816 ,\n",
       "       20.13804547, 21.65940914, 25.27097512, 20.48343925, 15.19739613,\n",
       "       29.7695707 , 12.31944293, 17.94056562, 24.10337458, 20.54507413,\n",
       "       13.45093476, 17.45364305, 15.23976358, 21.60564271, 22.20775118,\n",
       "       15.12007251, 17.66583618, 19.9387157 , 21.96574033, 16.40345964,\n",
       "       24.60186545, 23.67658898, 27.25128588, 33.71677365, 13.88926509,\n",
       "       13.61849011, 31.35621572, 30.45914057, 18.82686837, 35.06116216,\n",
       "       25.28970108, 27.95031749, 18.90985576, 24.3109258 , 28.52155444,\n",
       "       25.53542148, 18.44034302, 33.11601704])"
      ]
     },
     "execution_count": 11,
     "metadata": {},
     "output_type": "execute_result"
    }
   ],
   "source": [
    "clf.predict(X_test)"
   ]
  },
  {
   "cell_type": "code",
   "execution_count": 12,
   "metadata": {},
   "outputs": [
    {
     "data": {
      "text/plain": [
       "array([22.6, 50. , 23. ,  8.3, 21.2, 19.9, 20.6, 18.7, 16.1, 18.6,  8.8,\n",
       "       17.2, 14.9, 10.5, 50. , 29. , 23. , 33.3, 29.4, 21. , 23.8, 19.1,\n",
       "       20.4, 29.1, 19.3, 23.1, 19.6, 19.4, 38.7, 18.7, 14.6, 20. , 20.5,\n",
       "       20.1, 23.6, 16.8,  5.6, 50. , 14.5, 13.3, 23.9, 20. , 19.8, 13.8,\n",
       "       16.5, 21.6, 20.3, 17. , 11.8, 27.5, 15.6, 23.1, 24.3, 42.8, 15.6,\n",
       "       21.7, 17.1, 17.2, 15. , 21.7, 18.6, 21. , 33.1, 31.5, 20.1, 29.8,\n",
       "       15.2, 15. , 27.5, 22.6, 20. , 21.4, 23.5, 31.2, 23.7,  7.4, 48.3,\n",
       "       24.4, 22.6, 18.3, 23.3, 17.1, 27.9, 44.8, 50. , 23. , 21.4, 10.2,\n",
       "       23.3, 23.2, 18.9, 13.4, 21.9, 24.8, 11.9, 24.3, 13.8, 24.7, 14.1,\n",
       "       18.7, 28.1, 19.8, 26.7, 21.7, 22. , 22.9, 10.4, 21.9, 20.6, 26.4,\n",
       "       41.3, 17.2, 27.1, 20.4, 16.5, 24.4,  8.4, 23. ,  9.7, 50. , 30.5,\n",
       "       12.3, 19.4, 21.2, 20.3, 18.8, 33.4, 18.5, 19.6, 33.2, 13.1,  7.5,\n",
       "       13.6, 17.4,  8.4, 35.4, 24. , 13.4, 26.2,  7.2, 13.1, 24.5, 37.2,\n",
       "       25. , 24.1, 16.6, 32.9, 36.2, 11. ,  7.2, 22.8, 28.7, 14.4, 24.4,\n",
       "       18.1, 22.5, 20.5, 15.2, 17.4, 13.6,  8.7, 18.2, 35.4, 31.7, 33. ,\n",
       "       22.2, 20.4, 23.9, 25. , 12.7, 29.1, 12. , 17.7, 27. , 20.6, 10.2,\n",
       "       17.5, 19.7, 29.8, 20.5, 14.9, 10.9, 19.5, 22.7, 19.5, 24.6, 25. ,\n",
       "       24.5, 50. , 14.3, 11.8, 31. , 28.7, 16.2, 43.5, 25. , 22. , 19.9,\n",
       "       22.1, 46. , 22.9, 20.2, 43.1])"
      ]
     },
     "execution_count": 12,
     "metadata": {},
     "output_type": "execute_result"
    }
   ],
   "source": [
    "y_test"
   ]
  },
  {
   "cell_type": "markdown",
   "metadata": {},
   "source": [
    "尚、回帰問題の場合、モデルの評価指標として平均二乗誤差が使われます。\n",
    "scikit-learnでは、mean_squared_errorという関数がありますので、こちらで計算できます。"
   ]
  },
  {
   "cell_type": "code",
   "execution_count": 13,
   "metadata": {},
   "outputs": [
    {
     "data": {
      "text/plain": [
       "34.165910124601005"
      ]
     },
     "execution_count": 13,
     "metadata": {},
     "output_type": "execute_result"
    }
   ],
   "source": [
    "from sklearn.metrics import mean_squared_error\n",
    "mean_squared_error(y_test, clf.predict(X_test))"
   ]
  },
  {
   "cell_type": "markdown",
   "metadata": {},
   "source": [
    "# RandomForestRegressorで回帰\n",
    "\n",
    "下記の通り、SVRであれ、RandomForestRegressorであれ、モデルの学習方法、分類方法が同じです。"
   ]
  },
  {
   "cell_type": "code",
   "execution_count": 14,
   "metadata": {},
   "outputs": [
    {
     "data": {
      "text/plain": [
       "13.83375885221675"
      ]
     },
     "execution_count": 14,
     "metadata": {},
     "output_type": "execute_result"
    }
   ],
   "source": [
    "from sklearn.ensemble import RandomForestRegressor\n",
    "clf = RandomForestRegressor(n_estimators=100)\n",
    "clf.fit(X_train, y_train) \n",
    "mean_squared_error(y_test, clf.predict(X_test))"
   ]
  }
 ],
 "metadata": {
  "_draft": {
   "nbviewer_url": "https://gist.github.com/2e2cadc0a120ae7c06b95d7d44f72405"
  },
  "gist": {
   "data": {
    "description": "Regression with scikit-learn.ipynb",
    "public": false
   },
   "id": "2e2cadc0a120ae7c06b95d7d44f72405"
  },
  "kernelspec": {
   "display_name": "Python 3.6",
   "language": "python",
   "name": "python36"
  },
  "language_info": {
   "codemirror_mode": {
    "name": "ipython",
    "version": 3
   },
   "file_extension": ".py",
   "mimetype": "text/x-python",
   "name": "python",
   "nbconvert_exporter": "python",
   "pygments_lexer": "ipython3",
   "version": "3.6.3"
  }
 },
 "nbformat": 4,
 "nbformat_minor": 2
}
